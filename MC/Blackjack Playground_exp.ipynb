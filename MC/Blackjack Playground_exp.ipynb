{
 "cells": [
  {
   "cell_type": "code",
   "execution_count": 13,
   "metadata": {
    "collapsed": true
   },
   "outputs": [],
   "source": [
    "%matplotlib inline\n",
    "\n",
    "import matplotlib\n",
    "import matplotlib.pyplot as plt\n",
    "\n",
    "import numpy as np\n",
    "import sys\n",
    "if \"../\" not in sys.path:\n",
    "  sys.path.append(\"../\") \n",
    "from lib.envs.blackjack import BlackjackEnv, sum_hand"
   ]
  },
  {
   "cell_type": "code",
   "execution_count": 14,
   "metadata": {
    "collapsed": true
   },
   "outputs": [],
   "source": [
    "env = BlackjackEnv()"
   ]
  },
  {
   "cell_type": "code",
   "execution_count": 45,
   "metadata": {},
   "outputs": [],
   "source": [
    "def print_observation(observation):\n",
    "    score, dealer_score, usable_ace = observation\n",
    "    print(\"Player Score: {} (Usable Ace: {}), Dealer Score: {}\".format(\n",
    "          score, usable_ace, dealer_score))\n",
    "\n",
    "def strategy(observation, stick_score):\n",
    "    score, dealer_score, usable_ace = observation\n",
    "    # Stick (action 0) if the score is > 20, hit (action 1) otherwise\n",
    "    return 0 if score >= stick_score else 1\n",
    "\n",
    "def play(episodes, stick_score, print_details):\n",
    "    cum_reward = 0\n",
    "    for i_episode in range(episodes):\n",
    "        observation = env.reset()\n",
    "        for t in range(100):\n",
    "            if print_details:\n",
    "                print_observation(observation)\n",
    "            action = strategy(observation, stick_score)\n",
    "            if print_details:\n",
    "                print(\"Taking action: {}\".format( [\"Stick\", \"Hit\"][action]))\n",
    "            observation, reward, done, _ = env.step(action)\n",
    "            if done:\n",
    "                if print_details:\n",
    "                    print_observation(observation)\n",
    "                    print(\"Game end. Dealer score: {}, Reward: {}\\n\".format(sum_hand(env.dealer), float(reward)))\n",
    "                cum_reward += reward\n",
    "                break\n",
    "    average_reward = cum_reward/episodes\n",
    "    if print_details:\n",
    "        print('Average rewards: {}'.format(average_reward))\n",
    "        \n",
    "    return average_reward"
   ]
  },
  {
   "cell_type": "code",
   "execution_count": 46,
   "metadata": {},
   "outputs": [
    {
     "name": "stdout",
     "output_type": "stream",
     "text": [
      "Player Score: 17 (Usable Ace: True), Dealer Score: 3\n",
      "Taking action: Stick\n",
      "Player Score: 17 (Usable Ace: True), Dealer Score: 3\n",
      "Game end. Dealer score: 20, Reward: -1.0\n",
      "\n",
      "Player Score: 18 (Usable Ace: False), Dealer Score: 10\n",
      "Taking action: Stick\n",
      "Player Score: 18 (Usable Ace: False), Dealer Score: 10\n",
      "Game end. Dealer score: 18, Reward: 0.0\n",
      "\n",
      "Player Score: 17 (Usable Ace: False), Dealer Score: 10\n",
      "Taking action: Stick\n",
      "Player Score: 17 (Usable Ace: False), Dealer Score: 10\n",
      "Game end. Dealer score: 20, Reward: -1.0\n",
      "\n",
      "Player Score: 14 (Usable Ace: False), Dealer Score: 7\n",
      "Taking action: Hit\n",
      "Player Score: 24 (Usable Ace: False), Dealer Score: 7\n",
      "Game end. Dealer score: 17, Reward: -1.0\n",
      "\n",
      "Player Score: 16 (Usable Ace: False), Dealer Score: 10\n",
      "Taking action: Hit\n",
      "Player Score: 26 (Usable Ace: False), Dealer Score: 10\n",
      "Game end. Dealer score: 17, Reward: -1.0\n",
      "\n",
      "Player Score: 12 (Usable Ace: False), Dealer Score: 10\n",
      "Taking action: Hit\n",
      "Player Score: 15 (Usable Ace: False), Dealer Score: 10\n",
      "Taking action: Hit\n",
      "Player Score: 19 (Usable Ace: False), Dealer Score: 10\n",
      "Taking action: Stick\n",
      "Player Score: 19 (Usable Ace: False), Dealer Score: 10\n",
      "Game end. Dealer score: 20, Reward: -1.0\n",
      "\n",
      "Player Score: 16 (Usable Ace: False), Dealer Score: 10\n",
      "Taking action: Hit\n",
      "Player Score: 17 (Usable Ace: False), Dealer Score: 10\n",
      "Taking action: Stick\n",
      "Player Score: 17 (Usable Ace: False), Dealer Score: 10\n",
      "Game end. Dealer score: 18, Reward: -1.0\n",
      "\n",
      "Player Score: 20 (Usable Ace: False), Dealer Score: 4\n",
      "Taking action: Stick\n",
      "Player Score: 20 (Usable Ace: False), Dealer Score: 4\n",
      "Game end. Dealer score: 20, Reward: 0.0\n",
      "\n",
      "Player Score: 14 (Usable Ace: False), Dealer Score: 7\n",
      "Taking action: Hit\n",
      "Player Score: 23 (Usable Ace: False), Dealer Score: 7\n",
      "Game end. Dealer score: 16, Reward: -1.0\n",
      "\n",
      "Player Score: 17 (Usable Ace: False), Dealer Score: 7\n",
      "Taking action: Stick\n",
      "Player Score: 17 (Usable Ace: False), Dealer Score: 7\n",
      "Game end. Dealer score: 19, Reward: -1.0\n",
      "\n",
      "Player Score: 12 (Usable Ace: False), Dealer Score: 2\n",
      "Taking action: Hit\n",
      "Player Score: 22 (Usable Ace: False), Dealer Score: 2\n",
      "Game end. Dealer score: 13, Reward: -1.0\n",
      "\n",
      "Player Score: 19 (Usable Ace: False), Dealer Score: 6\n",
      "Taking action: Stick\n",
      "Player Score: 19 (Usable Ace: False), Dealer Score: 6\n",
      "Game end. Dealer score: 22, Reward: 1.0\n",
      "\n",
      "Player Score: 15 (Usable Ace: False), Dealer Score: 6\n",
      "Taking action: Hit\n",
      "Player Score: 25 (Usable Ace: False), Dealer Score: 6\n",
      "Game end. Dealer score: 15, Reward: -1.0\n",
      "\n",
      "Player Score: 13 (Usable Ace: False), Dealer Score: 4\n",
      "Taking action: Hit\n",
      "Player Score: 17 (Usable Ace: False), Dealer Score: 4\n",
      "Taking action: Stick\n",
      "Player Score: 17 (Usable Ace: False), Dealer Score: 4\n",
      "Game end. Dealer score: 23, Reward: 1.0\n",
      "\n",
      "Player Score: 16 (Usable Ace: True), Dealer Score: 6\n",
      "Taking action: Hit\n",
      "Player Score: 12 (Usable Ace: False), Dealer Score: 6\n",
      "Taking action: Hit\n",
      "Player Score: 15 (Usable Ace: False), Dealer Score: 6\n",
      "Taking action: Hit\n",
      "Player Score: 25 (Usable Ace: False), Dealer Score: 6\n",
      "Game end. Dealer score: 13, Reward: -1.0\n",
      "\n",
      "Player Score: 13 (Usable Ace: False), Dealer Score: 1\n",
      "Taking action: Hit\n",
      "Player Score: 14 (Usable Ace: False), Dealer Score: 1\n",
      "Taking action: Hit\n",
      "Player Score: 16 (Usable Ace: False), Dealer Score: 1\n",
      "Taking action: Hit\n",
      "Player Score: 24 (Usable Ace: False), Dealer Score: 1\n",
      "Game end. Dealer score: 21, Reward: -1.0\n",
      "\n",
      "Player Score: 15 (Usable Ace: False), Dealer Score: 9\n",
      "Taking action: Hit\n",
      "Player Score: 23 (Usable Ace: False), Dealer Score: 9\n",
      "Game end. Dealer score: 17, Reward: -1.0\n",
      "\n",
      "Player Score: 17 (Usable Ace: False), Dealer Score: 2\n",
      "Taking action: Stick\n",
      "Player Score: 17 (Usable Ace: False), Dealer Score: 2\n",
      "Game end. Dealer score: 21, Reward: -1.0\n",
      "\n",
      "Player Score: 20 (Usable Ace: False), Dealer Score: 6\n",
      "Taking action: Stick\n",
      "Player Score: 20 (Usable Ace: False), Dealer Score: 6\n",
      "Game end. Dealer score: 18, Reward: 1.0\n",
      "\n",
      "Player Score: 15 (Usable Ace: False), Dealer Score: 4\n",
      "Taking action: Hit\n",
      "Player Score: 25 (Usable Ace: False), Dealer Score: 4\n",
      "Game end. Dealer score: 13, Reward: -1.0\n",
      "\n",
      "Average rewards: -0.6\n"
     ]
    }
   ],
   "source": [
    "reward = play(stick_score=17, episodes=20, print_details=True)"
   ]
  },
  {
   "cell_type": "code",
   "execution_count": 48,
   "metadata": {},
   "outputs": [
    {
     "name": "stdout",
     "output_type": "stream",
     "text": [
      "Best strategy is to stick after 16, average reward: -0.0562\n"
     ]
    },
    {
     "name": "stderr",
     "output_type": "stream",
     "text": [
      "/Library/Frameworks/Python.framework/Versions/3.5/lib/python3.5/site-packages/matplotlib/figure.py:403: UserWarning: matplotlib is currently using a non-GUI backend, so cannot show the figure\n",
      "  \"matplotlib is currently using a non-GUI backend, \"\n"
     ]
    },
    {
     "data": {
      "image/png": "[encoded data removed]",
      "text/plain": [
       "<matplotlib.figure.Figure at 0x1119065f8>"
      ]
     },
     "metadata": {},
     "output_type": "display_data"
    }
   ],
   "source": [
    "reward_list = [] \n",
    "\n",
    "for i in range(4, 22):\n",
    "    reward = play(stick_score=i, episodes=10000, print_details=False)\n",
    "    reward_list.append(reward)\n",
    "\n",
    "print('Best strategy is to stick after {}, average reward: {}'.format(np.argmax(reward_list)+4, max(reward_list)))\n",
    "\n",
    "fig, ax = plt.subplots()\n",
    "\n",
    "ax.plot(list(range(4, 22)), reward_list)\n",
    "ax.set_xlabel('stick score')\n",
    "ax.set_ylabel('average reward')\n",
    "\n",
    "ax.set_xlim(4, 22)\n",
    "ax.set_xticks(range(4, 22))\n",
    "\n",
    "ax.set_ylim(-1, 0)\n",
    "\n",
    "fig.show()"
   ]
  },
  {
   "cell_type": "code",
   "execution_count": null,
   "metadata": {
    "collapsed": true
   },
   "outputs": [],
   "source": []
  }
 ],
 "metadata": {
  "kernelspec": {
   "display_name": "Python 3",
   "language": "python",
   "name": "python3"
  },
  "language_info": {
   "codemirror_mode": {
    "name": "ipython",
    "version": 3
   },
   "file_extension": ".py",
   "mimetype": "text/x-python",
   "name": "python",
   "nbconvert_exporter": "python",
   "pygments_lexer": "ipython3",
   "version": "3.5.2"
  }
 },
 "nbformat": 4,
 "nbformat_minor": 1
}
