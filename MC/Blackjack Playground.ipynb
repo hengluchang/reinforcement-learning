{
 "cells": [
  {
   "cell_type": "code",
   "execution_count": 20,
   "metadata": {
    "collapsed": true
   },
   "outputs": [],
   "source": [
    "%matplotlib inline\n",
    "\n",
    "import matplotlib\n",
    "import numpy as np\n",
    "import matplotlib.pyplot as plt\n",
    "\n",
    "import numpy as np\n",
    "import sys\n",
    "if \"../\" not in sys.path:\n",
    "  sys.path.append(\"../\") \n",
    "from lib.envs.blackjack import BlackjackEnv, sum_hand"
   ]
  },
  {
   "cell_type": "code",
   "execution_count": 7,
   "metadata": {
    "collapsed": true
   },
   "outputs": [],
   "source": [
    "env = BlackjackEnv()"
   ]
  },
  {
   "cell_type": "code",
   "execution_count": 34,
   "metadata": {},
   "outputs": [],
   "source": [
    "def print_observation(observation):\n",
    "    score, dealer_score, usable_ace = observation\n",
    "    print(\"Player Score: {} (Usable Ace: {}), Dealer Score: {}\".format(\n",
    "          score, usable_ace, dealer_score))\n",
    "\n",
    "def strategy(observation, stick_score):\n",
    "    score, dealer_score, usable_ace = observation\n",
    "    # Stick (action 0) if the score is > stick_score, hit (action 1) otherwise\n",
    "    return 0 if score >= stick_score else 1\n",
    "\n",
    "def play(stick_score, episodes, print_game_details):\n",
    "    rewards = []\n",
    "    for i_episode in range(episodes):\n",
    "        observation = env.reset()\n",
    "        for t in range(100):\n",
    "            if print_game_details:\n",
    "                print_observation(observation)\n",
    "            action = strategy(observation, stick_score=stick_score)\n",
    "            if print_game_details:\n",
    "                print(\"Taking action: {}\".format( [\"Stick\", \"Hit\"][action]))\n",
    "\n",
    "            # After the player sticks, the dealer draws until their sum is 17 or greater. \n",
    "            observation, reward, done, _ = env.step(action)\n",
    "\n",
    "            if done:\n",
    "                if print_game_details:\n",
    "                    print_observation(observation)\n",
    "                    print(\"Game end. Dealer sum: {}, Reward: {}\\n\".format(sum_hand(env.dealer), float(reward)))\n",
    "                rewards.append(reward)\n",
    "                break\n",
    "    if print_game_details:\n",
    "        print('Total reward after {} episodes: {}'.format(episodes, sum(rewards)))\n",
    "    return sum(rewards)"
   ]
  },
  {
   "cell_type": "code",
   "execution_count": 48,
   "metadata": {},
   "outputs": [
    {
     "name": "stdout",
     "output_type": "stream",
     "text": [
      "Player Score: 15 (Usable Ace: False), Dealer Score: 7\n",
      "Taking action: Hit\n",
      "Player Score: 23 (Usable Ace: False), Dealer Score: 7\n",
      "Game end. Dealer sum: 17, Reward: -1.0\n",
      "\n",
      "Player Score: 17 (Usable Ace: True), Dealer Score: 4\n",
      "Taking action: Stick\n",
      "Player Score: 17 (Usable Ace: True), Dealer Score: 4\n",
      "Game end. Dealer sum: 21, Reward: -1.0\n",
      "\n",
      "Player Score: 16 (Usable Ace: True), Dealer Score: 7\n",
      "Taking action: Hit\n",
      "Player Score: 20 (Usable Ace: True), Dealer Score: 7\n",
      "Taking action: Stick\n",
      "Player Score: 20 (Usable Ace: True), Dealer Score: 7\n",
      "Game end. Dealer sum: 19, Reward: 1.0\n",
      "\n",
      "Player Score: 17 (Usable Ace: False), Dealer Score: 10\n",
      "Taking action: Stick\n",
      "Player Score: 17 (Usable Ace: False), Dealer Score: 10\n",
      "Game end. Dealer sum: 18, Reward: -1.0\n",
      "\n",
      "Player Score: 14 (Usable Ace: False), Dealer Score: 3\n",
      "Taking action: Hit\n",
      "Player Score: 24 (Usable Ace: False), Dealer Score: 3\n",
      "Game end. Dealer sum: 13, Reward: -1.0\n",
      "\n",
      "Player Score: 21 (Usable Ace: False), Dealer Score: 4\n",
      "Taking action: Stick\n",
      "Player Score: 21 (Usable Ace: False), Dealer Score: 4\n",
      "Game end. Dealer sum: 18, Reward: 1.0\n",
      "\n",
      "Player Score: 13 (Usable Ace: False), Dealer Score: 2\n",
      "Taking action: Hit\n",
      "Player Score: 17 (Usable Ace: False), Dealer Score: 2\n",
      "Taking action: Stick\n",
      "Player Score: 17 (Usable Ace: False), Dealer Score: 2\n",
      "Game end. Dealer sum: 24, Reward: 1.0\n",
      "\n",
      "Player Score: 18 (Usable Ace: False), Dealer Score: 1\n",
      "Taking action: Stick\n",
      "Player Score: 18 (Usable Ace: False), Dealer Score: 1\n",
      "Game end. Dealer sum: 18, Reward: 0.0\n",
      "\n",
      "Player Score: 15 (Usable Ace: False), Dealer Score: 2\n",
      "Taking action: Hit\n",
      "Player Score: 16 (Usable Ace: False), Dealer Score: 2\n",
      "Taking action: Hit\n",
      "Player Score: 25 (Usable Ace: False), Dealer Score: 2\n",
      "Game end. Dealer sum: 8, Reward: -1.0\n",
      "\n",
      "Player Score: 14 (Usable Ace: False), Dealer Score: 6\n",
      "Taking action: Hit\n",
      "Player Score: 18 (Usable Ace: False), Dealer Score: 6\n",
      "Taking action: Stick\n",
      "Player Score: 18 (Usable Ace: False), Dealer Score: 6\n",
      "Game end. Dealer sum: 17, Reward: 1.0\n",
      "\n",
      "Player Score: 12 (Usable Ace: False), Dealer Score: 10\n",
      "Taking action: Hit\n",
      "Player Score: 15 (Usable Ace: False), Dealer Score: 10\n",
      "Taking action: Hit\n",
      "Player Score: 25 (Usable Ace: False), Dealer Score: 10\n",
      "Game end. Dealer sum: 17, Reward: -1.0\n",
      "\n",
      "Player Score: 17 (Usable Ace: False), Dealer Score: 2\n",
      "Taking action: Stick\n",
      "Player Score: 17 (Usable Ace: False), Dealer Score: 2\n",
      "Game end. Dealer sum: 22, Reward: 1.0\n",
      "\n",
      "Player Score: 16 (Usable Ace: False), Dealer Score: 3\n",
      "Taking action: Hit\n",
      "Player Score: 24 (Usable Ace: False), Dealer Score: 3\n",
      "Game end. Dealer sum: 13, Reward: -1.0\n",
      "\n",
      "Player Score: 14 (Usable Ace: False), Dealer Score: 4\n",
      "Taking action: Hit\n",
      "Player Score: 24 (Usable Ace: False), Dealer Score: 4\n",
      "Game end. Dealer sum: 13, Reward: -1.0\n",
      "\n",
      "Player Score: 20 (Usable Ace: True), Dealer Score: 3\n",
      "Taking action: Stick\n",
      "Player Score: 20 (Usable Ace: True), Dealer Score: 3\n",
      "Game end. Dealer sum: 24, Reward: 1.0\n",
      "\n",
      "Player Score: 15 (Usable Ace: False), Dealer Score: 1\n",
      "Taking action: Hit\n",
      "Player Score: 20 (Usable Ace: False), Dealer Score: 1\n",
      "Taking action: Stick\n",
      "Player Score: 20 (Usable Ace: False), Dealer Score: 1\n",
      "Game end. Dealer sum: 21, Reward: -1.0\n",
      "\n",
      "Player Score: 14 (Usable Ace: False), Dealer Score: 1\n",
      "Taking action: Hit\n",
      "Player Score: 24 (Usable Ace: False), Dealer Score: 1\n",
      "Game end. Dealer sum: 21, Reward: -1.0\n",
      "\n",
      "Player Score: 15 (Usable Ace: False), Dealer Score: 6\n",
      "Taking action: Hit\n",
      "Player Score: 25 (Usable Ace: False), Dealer Score: 6\n",
      "Game end. Dealer sum: 17, Reward: -1.0\n",
      "\n",
      "Player Score: 13 (Usable Ace: False), Dealer Score: 8\n",
      "Taking action: Hit\n",
      "Player Score: 19 (Usable Ace: False), Dealer Score: 8\n",
      "Taking action: Stick\n",
      "Player Score: 19 (Usable Ace: False), Dealer Score: 8\n",
      "Game end. Dealer sum: 19, Reward: 0.0\n",
      "\n",
      "Player Score: 16 (Usable Ace: False), Dealer Score: 10\n",
      "Taking action: Hit\n",
      "Player Score: 22 (Usable Ace: False), Dealer Score: 10\n",
      "Game end. Dealer sum: 16, Reward: -1.0\n",
      "\n",
      "Total reward after 20 episodes: -6\n"
     ]
    }
   ],
   "source": [
    "rewards = play(stick_score=17, episodes=20, print_game_details=True)"
   ]
  },
  {
   "cell_type": "code",
   "execution_count": 45,
   "metadata": {},
   "outputs": [
    {
     "name": "stdout",
     "output_type": "stream",
     "text": [
      "The best strategy for playing is stick after 15, the reward is -603\n"
     ]
    },
    {
     "name": "stderr",
     "output_type": "stream",
     "text": [
      "/Library/Frameworks/Python.framework/Versions/3.5/lib/python3.5/site-packages/matplotlib/figure.py:403: UserWarning: matplotlib is currently using a non-GUI backend, so cannot show the figure\n",
      "  \"matplotlib is currently using a non-GUI backend, \"\n"
     ]
    },
    {
     "data": {
      "image/png": "[encoded data removed]",
      "text/plain": [
       "<matplotlib.figure.Figure at 0x110bbf0f0>"
      ]
     },
     "metadata": {},
     "output_type": "display_data"
    }
   ],
   "source": [
    "rewards_list = list()\n",
    "\n",
    "for i in range(1, 21):\n",
    "    rewards = play(stick_score=i, episodes=10000, print_game_details=False)\n",
    "    rewards_list.append(rewards)\n",
    "    \n",
    "print('The best strategy for playing is stick after {}, the reward is {}'.format(np.argmax(rewards_list)+1, max(rewards_list)))\n",
    "fig, ax = plt.subplots()\n",
    "\n",
    "ax.plot(range(1, 21), rewards_list)\n",
    "ax.set_xlabel('stick_score')\n",
    "ax.set_ylabel('rewards')\n",
    "\n",
    "ax.set_xticks(range(1, 21))\n",
    "\n",
    "fig.show()"
   ]
  },
  {
   "cell_type": "code",
   "execution_count": null,
   "metadata": {
    "collapsed": true
   },
   "outputs": [],
   "source": []
  }
 ],
 "metadata": {
  "kernelspec": {
   "display_name": "rl",
   "language": "python",
   "name": "rl"
  },
  "language_info": {
   "codemirror_mode": {
    "name": "ipython",
    "version": 3
   },
   "file_extension": ".py",
   "mimetype": "text/x-python",
   "name": "python",
   "nbconvert_exporter": "python",
   "pygments_lexer": "ipython3",
   "version": "3.5.2"
  }
 },
 "nbformat": 4,
 "nbformat_minor": 1
}
