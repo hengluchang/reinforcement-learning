{
 "cells": [
  {
   "cell_type": "code",
   "execution_count": 12,
   "metadata": {
    "collapsed": true
   },
   "outputs": [],
   "source": [
    "import numpy as np\n",
    "import pprint\n",
    "import sys\n",
    "if \"../\" not in sys.path:\n",
    "  sys.path.append(\"../\") \n",
    "from lib.envs.gridworld import GridworldEnv"
   ]
  },
  {
   "cell_type": "code",
   "execution_count": 13,
   "metadata": {
    "collapsed": true
   },
   "outputs": [],
   "source": [
    "pp = pprint.PrettyPrinter(indent=2)\n",
    "env = GridworldEnv(shape = [4, 4])"
   ]
  },
  {
   "cell_type": "code",
   "execution_count": 14,
   "metadata": {
    "collapsed": true
   },
   "outputs": [],
   "source": [
    "# Taken from Policy Evaluation Exercise!\n",
    "\n",
    "def policy_eval(policy, env, discount_factor=1.0, theta=0.00001):\n",
    "    \"\"\"\n",
    "    Evaluate a policy given an environment and a full description of the environment's dynamics.\n",
    "    \n",
    "    Args:\n",
    "        policy: [S, A] shaped matrix representing the policy.\n",
    "        env: OpenAI env. env.P represents the transition probabilities of the environment.\n",
    "            env.P[s][a] is a list of transition tuples (prob, next_state, reward, done).\n",
    "            env.nS is a number of states in the environment. \n",
    "            env.nA is a number of actions in the environment.\n",
    "        theta: We stop evaluation once our value function change is less than theta for all states.\n",
    "        discount_factor: Gamma discount factor.\n",
    "    \n",
    "    Returns:\n",
    "        Vector of length env.nS representing the value function.\n",
    "    \"\"\"\n",
    "    # Start with a random (all 0) value function\n",
    "    V = np.zeros(env.nS)\n",
    "    while True:\n",
    "        delta = 0\n",
    "        # For each state, perform a \"full backup\"\n",
    "        for s in range(env.nS):\n",
    "            v = 0\n",
    "            # Look at the possible next actions\n",
    "            for a, action_prob in enumerate(policy[s]):\n",
    "                # For each action, look at the possible next states...\n",
    "                for  prob, next_state, reward, done in env.P[s][a]:\n",
    "                    # Calculate the expected value\n",
    "                    v += action_prob * prob * (reward + discount_factor * V[next_state])\n",
    "            # How much our value function changed (across any states)\n",
    "            delta = max(delta, np.abs(v - V[s]))\n",
    "            V[s] = v\n",
    "        # Stop evaluating once our value function change is below a threshold\n",
    "        if delta < theta:\n",
    "            break\n",
    "    return np.array(V)"
   ]
  },
  {
   "cell_type": "code",
   "execution_count": 15,
   "metadata": {
    "collapsed": true
   },
   "outputs": [],
   "source": [
    "def policy_improvement(env, policy_eval_fn=policy_eval, discount_factor=1.0):\n",
    "    \"\"\"\n",
    "    Policy Improvement Algorithm. Iteratively evaluates and improves a policy\n",
    "    until an optimal policy is found.\n",
    "    \n",
    "    Args:\n",
    "        env: The OpenAI envrionment.\n",
    "        policy_eval_fn: Policy Evaluation function that takes 3 arguments:\n",
    "            policy, env, discount_factor.\n",
    "        discount_factor: gamma discount factor.\n",
    "        \n",
    "    Returns:\n",
    "        A tuple (policy, V). \n",
    "        policy is the optimal policy, a matrix of shape [S, A] where each state s\n",
    "        contains a valid probability distribution over actions.\n",
    "        V is the value function for the optimal policy.\n",
    "        \n",
    "    \"\"\"\n",
    "    # Start with a random policy\n",
    "    policy = np.ones([env.nS, env.nA]) / env.nA\n",
    "\n",
    "    while True:\n",
    "\n",
    "        # Evaluation current policy\n",
    "        v = policy_eval_fn(policy, env, discount_factor)\n",
    "        \n",
    "        # will be set to false if any changes is made for the policy\n",
    "        policy_stable = True\n",
    "        \n",
    "        # for each state...\n",
    "        for s in range(env.nS):\n",
    "        \n",
    "            # best action under current policy\n",
    "            current_action = np.argmax(policy[s])\n",
    "            \n",
    "            # find the best action by one-step look ahead\n",
    "            action_values = np.zeros(env.nA)\n",
    "            for a, _ in enumerate(policy[s]):\n",
    "                prob, next_state, reward, done = env.P[s][a][0]\n",
    "                action_values[a] = prob * (reward + discount_factor * v[next_state])\n",
    "            \n",
    "            # greedily select best policy \n",
    "            best_action = np.argmax(action_values)\n",
    "            \n",
    "            if current_action != best_action:\n",
    "                policy_stable = False\n",
    "                \n",
    "            # update policy \n",
    "            policy[s, best_action] = 1.0\n",
    "            \n",
    "                \n",
    "        if policy_stable:\n",
    "            return policy, v\n",
    "    \n",
    "    "
   ]
  },
  {
   "cell_type": "code",
   "execution_count": 16,
   "metadata": {},
   "outputs": [
    {
     "name": "stderr",
     "output_type": "stream",
     "text": [
      "/Library/Frameworks/Python.framework/Versions/3.5/lib/python3.5/site-packages/ipykernel_launcher.py:31: RuntimeWarning: overflow encountered in double_scalars\n",
      "/Library/Frameworks/Python.framework/Versions/3.5/lib/python3.5/site-packages/ipykernel_launcher.py:33: RuntimeWarning: invalid value encountered in double_scalars\n"
     ]
    },
    {
     "name": "stdout",
     "output_type": "stream",
     "text": [
      "Policy iteration time: 0.2701289653778076\n",
      "Policy Probability Distribution:\n",
      "[[ 1.    0.25  0.25  0.25]\n",
      " [ 0.25  0.25  0.25  1.  ]\n",
      " [ 1.    0.25  0.25  1.  ]\n",
      " [ 1.    0.25  0.25  1.  ]\n",
      " [ 1.    0.25  0.25  0.25]\n",
      " [ 1.    0.25  0.25  0.25]\n",
      " [ 1.    0.25  0.25  1.  ]\n",
      " [ 1.    0.25  1.    0.25]\n",
      " [ 1.    0.25  0.25  0.25]\n",
      " [ 1.    0.25  0.25  0.25]\n",
      " [ 1.    1.    0.25  0.25]\n",
      " [ 0.25  0.25  1.    0.25]\n",
      " [ 1.    0.25  0.25  0.25]\n",
      " [ 1.    1.    0.25  0.25]\n",
      " [ 0.25  1.    0.25  0.25]\n",
      " [ 1.    0.25  0.25  0.25]]\n",
      "\n",
      "Reshaped Grid Policy (0=up, 1=right, 2=down, 3=left):\n",
      "[[0 3 0 0]\n",
      " [0 0 0 0]\n",
      " [0 0 0 2]\n",
      " [0 0 1 0]]\n",
      "\n",
      "Value Function:\n",
      "[  0. -inf -inf -inf -inf -inf -inf -inf -inf -inf -inf -inf -inf -inf -inf\n",
      "   0.]\n",
      "\n",
      "Reshaped Grid Value Function:\n",
      "[[  0. -inf -inf -inf]\n",
      " [-inf -inf -inf -inf]\n",
      " [-inf -inf -inf -inf]\n",
      " [-inf -inf -inf   0.]]\n",
      "\n"
     ]
    }
   ],
   "source": [
    "# time \n",
    "import time\n",
    "start = time.time()\n",
    "policy, v = policy_improvement(env)\n",
    "end = time.time()\n",
    "duration = end - start\n",
    "print('Policy iteration time: {}'.format(duration))\n",
    "policy, v = policy_improvement(env)\n",
    "print(\"Policy Probability Distribution:\")\n",
    "print(policy)\n",
    "print(\"\")\n",
    "\n",
    "print(\"Reshaped Grid Policy (0=up, 1=right, 2=down, 3=left):\")\n",
    "print(np.reshape(np.argmax(policy, axis=1), env.shape))\n",
    "print(\"\")\n",
    "\n",
    "print(\"Value Function:\")\n",
    "print(v)\n",
    "print(\"\")\n",
    "\n",
    "print(\"Reshaped Grid Value Function:\")\n",
    "print(v.reshape(env.shape))\n",
    "print(\"\")\n",
    "\n"
   ]
  },
  {
   "cell_type": "code",
   "execution_count": 11,
   "metadata": {
    "collapsed": true
   },
   "outputs": [],
   "source": [
    "# Test the value function\n",
    "expected_v = np.array([ 0, -1, -2, -3, -1, -2, -3, -2, -2, -3, -2, -1, -3, -2, -1,  0])\n",
    "np.testing.assert_array_almost_equal(v, expected_v, decimal=2)"
   ]
  },
  {
   "cell_type": "code",
   "execution_count": null,
   "metadata": {
    "collapsed": true
   },
   "outputs": [],
   "source": []
  }
 ],
 "metadata": {
  "kernelspec": {
   "display_name": "Python 3",
   "language": "python",
   "name": "python3"
  },
  "language_info": {
   "codemirror_mode": {
    "name": "ipython",
    "version": 3
   },
   "file_extension": ".py",
   "mimetype": "text/x-python",
   "name": "python",
   "nbconvert_exporter": "python",
   "pygments_lexer": "ipython3",
   "version": "3.5.2"
  }
 },
 "nbformat": 4,
 "nbformat_minor": 1
}
